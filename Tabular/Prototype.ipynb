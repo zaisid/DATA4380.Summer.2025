{
 "cells": [
  {
   "cell_type": "markdown",
   "metadata": {},
   "source": [
    "# Tabular Prototype\n",
    "\n",
    "By Monday 6/30, make an attempt at formulating and \"solving\" your proposed problem."
   ]
  },
  {
   "cell_type": "markdown",
   "metadata": {},
   "source": [
    "## Machine Learning\n",
    "\n",
    "\n",
    "### Problem Formulation\n",
    "\n",
    "* Remove unneed columns, for example:\n",
    "    * duplicated\n",
    "    * categorical features that were turned into one-hot.\n",
    "    * features that identify specific rows, like ID number.\n",
    "    * make sure your target is properly encoded also.\n",
    "* Split training sample into train, validation, and test sub-samples.\n",
    "\n",
    "### Train ML Algorithm\n",
    "\n",
    "* You only need one algorithm for now. You can do more if you like.\n",
    "* For now, focus on making it work, rather than best result.\n",
    "* Try to get a non-trivial result.\n",
    "\n",
    "### Evaluate Performance on Validation Sample\n",
    "\n",
    "* Compute the usual metric for your ML task.\n",
    "* Compute the score for the kaggle challenge.\n",
    "\n"
   ]
  },
  {
   "cell_type": "code",
   "execution_count": null,
   "metadata": {},
   "outputs": [],
   "source": []
  }
 ],
 "metadata": {
  "kernelspec": {
   "display_name": "Python 3",
   "language": "python",
   "name": "python3"
  },
  "language_info": {
   "codemirror_mode": {
    "name": "ipython",
    "version": 3
   },
   "file_extension": ".py",
   "mimetype": "text/x-python",
   "name": "python",
   "nbconvert_exporter": "python",
   "pygments_lexer": "ipython3",
   "version": "3.8.0"
  }
 },
 "nbformat": 4,
 "nbformat_minor": 2
}
