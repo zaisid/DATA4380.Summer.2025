{
 "cells": [
  {
   "cell_type": "markdown",
   "metadata": {},
   "source": [
    "# Tabular Feasibility\n",
    "\n",
    "For Wednesday June 25 you should be well on your way to assess feasibility of your project. This notebook will be submitted Friday June 27. You can find example codes in [Kaggle Lecture](https://github.com/UTA-DataScience/DATA3402.Spring.2025/blob/main/Lectures/Lecture.19/Lecture.19.ipynb) from Data 3402. You can find the recordings of a walk-through in our class Team (`Data 4380- 2024/Lecture Recordings`), Lectures 8 and 10-12.\n",
    "\n",
    "\n",
    "## Define Project\n",
    "\n",
    "To establish the context of the feasibility study, write a short introduction, mostly summarizing info that was in your proposal:\n",
    "\n",
    "* Provide Project link.\n",
    "* Short paragraph describing the challenge. \n",
    "* Briefly describe the data.\n",
    "* What type of Machine Learning? Supervised Classification (binary or multiclass) or Regression? \n"
   ]
  },
  {
   "cell_type": "markdown",
   "metadata": {},
   "source": [
    "## Data Loading and Initial Look\n",
    "\n",
    "First lets establish that the data is in good shape:\n",
    "\n",
    "* Load the data. \n",
    "* Count the number of rows (data points) and features.\n",
    "* Any missing values? \n",
    "* Make a table, where each row is a feature or collection of features:\n",
    "    * Is the feature categorical or numerical\n",
    "    * What values? \n",
    "        * e.g. for categorical: \"0,1,2\"\n",
    "        * e.g. for numerical specify the range\n",
    "    * How many missing values\n",
    "    * Do you see any outliers?\n",
    "        * Define outlier.\n",
    "    * If you have a lot of features, summarize (e.g. 100 categorical and 500 numerical features).\n",
    "* For classification is there class imbalance?\n",
    "* What is the target:\n",
    "    * Classification: how is the target encoded (e.g. 0 and 1)?\n",
    "    * Regression: what is the range?"
   ]
  },
  {
   "cell_type": "markdown",
   "metadata": {},
   "source": [
    "## Data Visualization\n",
    "\n",
    "Next perform your first visualizaion:\n",
    "\n",
    "* For classification: compare histogram every feature between the classes. Lots of examples of this in class.\n",
    "* For regression: \n",
    "    * Define 2 or more class based on value of the regression target.\n",
    "        * For example: if regression target is between 0 and 1:\n",
    "            * 0.0-0.25: Class 1\n",
    "            * 0.25-0.5: Class 2\n",
    "            * 0.5-0.75: Class 3\n",
    "            * 0.75-1.0: Class 4\n",
    "    * Compare histograms of the features between the classes.\n",
    "        \n",
    "* Note that for categorical features, often times the information in the histogram could be better presented in a table.    \n",
    "* Make comments on what features look most promising for ML task."
   ]
  },
  {
   "cell_type": "markdown",
   "metadata": {},
   "source": [
    "## Data Cleaning and Preperation for Machine Learning\n",
    "\n",
    "Based on what you find above, prepare the data for ML.\n",
    "\n",
    "* Perform any data cleaning. Be clear what are you doing, for what feature. \n",
    "* Determinine if rescaling is important for your Machine Learning model.\n",
    "    * If so select strategy for each feature.\n",
    "    * Apply rescaling.\n",
    "* Visualize the features before and after cleaning and rescaling.\n",
    "* One-hot encode your categorical features."
   ]
  }
 ],
 "metadata": {
  "kernelspec": {
   "display_name": "Python 3",
   "language": "python",
   "name": "python3"
  },
  "language_info": {
   "codemirror_mode": {
    "name": "ipython",
    "version": 3
   },
   "file_extension": ".py",
   "mimetype": "text/x-python",
   "name": "python",
   "nbconvert_exporter": "python",
   "pygments_lexer": "ipython3",
   "version": "3.8.0"
  }
 },
 "nbformat": 4,
 "nbformat_minor": 5
}
